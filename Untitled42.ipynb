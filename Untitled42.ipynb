{
  "nbformat": 4,
  "nbformat_minor": 0,
  "metadata": {
    "colab": {
      "name": "Untitled42.ipynb",
      "provenance": [],
      "collapsed_sections": [],
      "authorship_tag": "ABX9TyNXsKNbMqXwPGwsxRuZLo5s",
      "include_colab_link": true
    },
    "kernelspec": {
      "name": "python3",
      "display_name": "Python 3"
    }
  },
  "cells": [
    {
      "cell_type": "markdown",
      "metadata": {
        "id": "view-in-github",
        "colab_type": "text"
      },
      "source": [
        "<a href=\"https://colab.research.google.com/github/anjomnouranika/stringreverse/blob/master/Untitled42.ipynb\" target=\"_parent\"><img src=\"https://colab.research.google.com/assets/colab-badge.svg\" alt=\"Open In Colab\"/></a>"
      ]
    },
    {
      "cell_type": "code",
      "metadata": {
        "id": "K6Aw1ABuxH-k",
        "colab_type": "code",
        "colab": {
          "base_uri": "https://localhost:8080/",
          "height": 35
        },
        "outputId": "203b7a82-f6c4-414e-fc6c-106ef508c76c"
      },
      "source": [
        "str = \"hello\"[::-1]\n",
        "print(str)"
      ],
      "execution_count": 1,
      "outputs": [
        {
          "output_type": "stream",
          "text": [
            "olleh\n"
          ],
          "name": "stdout"
        }
      ]
    },
    {
      "cell_type": "code",
      "metadata": {
        "id": "j1w36grKxdzS",
        "colab_type": "code",
        "colab": {
          "base_uri": "https://localhost:8080/",
          "height": 54
        },
        "outputId": "c0c7edcb-2f2c-43a1-ac88-57cba3b25973"
      },
      "source": [
        "def reverse(str):\n",
        "  if len(str) == 0:\n",
        "    return str\n",
        "  else:\n",
        "    return reverse(str[1:])+str[0]\n",
        "print(reverse(input(\"\")))       "
      ],
      "execution_count": 2,
      "outputs": [
        {
          "output_type": "stream",
          "text": [
            "python\n",
            "nohtyp\n"
          ],
          "name": "stdout"
        }
      ]
    },
    {
      "cell_type": "code",
      "metadata": {
        "id": "B1thOWafyz0A",
        "colab_type": "code",
        "colab": {}
      },
      "source": [
        ""
      ],
      "execution_count": null,
      "outputs": []
    },
    {
      "cell_type": "code",
      "metadata": {
        "id": "47uqvBIEyW3c",
        "colab_type": "code",
        "colab": {
          "base_uri": "https://localhost:8080/",
          "height": 54
        },
        "outputId": "d4d982db-555c-46e2-e8a0-ed4ceaed0c37"
      },
      "source": [
        "string1 = input(\"\")\n",
        "string2 = \"\"\n",
        "i = len(string1) - 1\n",
        "while (i >= 0):\n",
        "  string2 = string2 + string1[i]\n",
        "  i = i - 1\n",
        "print(string2)  "
      ],
      "execution_count": 6,
      "outputs": [
        {
          "output_type": "stream",
          "text": [
            "poor\n",
            "roop\n"
          ],
          "name": "stdout"
        }
      ]
    },
    {
      "cell_type": "code",
      "metadata": {
        "id": "XIbmeLPI7Xxr",
        "colab_type": "code",
        "colab": {
          "base_uri": "https://localhost:8080/",
          "height": 54
        },
        "outputId": "e56387f1-4844-47bb-c520-62f73e3c294a"
      },
      "source": [
        "str = input(\"\")[::-1]\n",
        "print(str)"
      ],
      "execution_count": 16,
      "outputs": [
        {
          "output_type": "stream",
          "text": [
            "poor\n",
            "roop\n"
          ],
          "name": "stdout"
        }
      ]
    }
  ]
}